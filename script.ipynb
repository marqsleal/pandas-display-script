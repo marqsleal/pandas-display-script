{
 "cells": [
  {
   "cell_type": "code",
   "execution_count": 18,
   "metadata": {},
   "outputs": [],
   "source": [
    "import pandas as pd\n",
    "\n",
    "def display_pagadores(df: pd.DataFrame, colunas: list, eixo: str, alvo: str, comparativo: str):    \n",
    "    for coluna in colunas:\n",
    "        if coluna not in df.columns:\n",
    "            raise ValueError(f\"Coluna {coluna} não encontrada no DataFrame.\")\n",
    "\n",
    "    df_display = df[(df[eixo] == alvo)]\n",
    "    for coluna in colunas:\n",
    "        if (coluna == eixo) or (coluna == comparativo):\n",
    "            continue\n",
    "        \n",
    "        dados = df_display[[coluna, comparativo]]\n",
    "\n",
    "        coluna_rename = f'{coluna}_{alvo.upper()}'\n",
    "        dados = dados.rename(columns={coluna : coluna_rename})\n",
    "        \n",
    "        contagem = dados.groupby([coluna_rename])[comparativo].value_counts().unstack()\n",
    "        porcentagem = ((contagem.divide(contagem.sum(axis=1), axis=0) * 100).round(2)).dropna()\n",
    "\n",
    "        display(porcentagem)\n",
    "\n",
    "df_pagadores_default_payment = pd.read_csv('dados/df_pagadores_default_payment.csv')\n",
    "df_pagadores_status_pgto = pd.read_csv('dados/df_pagadores_status_pgto.csv')\n",
    "\n",
    "# for column in df_pagadores.columns:\n",
    "#     for value in df_pagadores[column].unique():\n",
    "#         display_pagadores(df=df_pagadores, colunas=df_pagadores.columns, eixo=column, alvo=value, comparativo=df_pagadores.columns[-1])\n"
   ]
  },
  {
   "cell_type": "code",
   "execution_count": 19,
   "metadata": {},
   "outputs": [],
   "source": [
    "def filtrar_df_pagadores(df: pd.DataFrame, coluna: str, comparativo: str) -> pd.DataFrame:    \n",
    "\n",
    "    dados = df[[coluna, comparativo]]\n",
    "        \n",
    "    contagem = dados.groupby([coluna, comparativo]).size().unstack(fill_value=0)\n",
    "    porcentagem = (contagem.divide(contagem.sum(axis=1), axis=0) * 100).round(2)\n",
    "\n",
    "    return porcentagem\n",
    "\n",
    "df_pagadores_default_payment = pd.read_csv('dados/df_pagadores_default_payment.csv')\n",
    "df_pagadores_status_pgto = pd.read_csv('dados/df_pagadores_status_pgto.csv')\n",
    "\n",
    "df_pagadores = df_pagadores_status_pgto\n",
    "\n",
    "df_pagadores_sex = filtrar_df_pagadores(df_pagadores, 'SEX', df_pagadores.columns[-1])\n",
    "df_pagadores_education = filtrar_df_pagadores(df_pagadores, 'EDUCATION', df_pagadores.columns[-1])\n",
    "df_pagadores_marrige = filtrar_df_pagadores(df_pagadores, 'MARRIAGE', df_pagadores.columns[-1])\n",
    "df_pagadores_age = filtrar_df_pagadores(df_pagadores, 'AGE_RANGES', df_pagadores.columns[-1])\n"
   ]
  }
 ],
 "metadata": {
  "kernelspec": {
   "display_name": "Python 3",
   "language": "python",
   "name": "python3"
  },
  "language_info": {
   "codemirror_mode": {
    "name": "ipython",
    "version": 3
   },
   "file_extension": ".py",
   "mimetype": "text/x-python",
   "name": "python",
   "nbconvert_exporter": "python",
   "pygments_lexer": "ipython3",
   "version": "3.10.12"
  }
 },
 "nbformat": 4,
 "nbformat_minor": 2
}
